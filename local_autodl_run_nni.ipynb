{
 "cells": [
  {
   "cell_type": "code",
   "execution_count": 1,
   "metadata": {
    "collapsed": true,
    "pycharm": {
     "name": "#%%\n"
    }
   },
   "outputs": [],
   "source": [
    "from nni import Experiment"
   ]
  },
  {
   "cell_type": "code",
   "execution_count": 2,
   "outputs": [],
   "source": [
    "search_space = {\"loop_times\": {\"_type\": \"choice\", \"_value\": [1, 2, 3, 4, 5]},\n",
    "                \"lr_base\": {\"_type\": \"loguniform\", \"_value\": [1e-4, 1e-2]},\n",
    "                \"GAN_start\": {\"_type\": \"choice\", \"_value\": [10, 20, 30, 40, 50, 60, 100, -1]}}"
   ],
   "metadata": {
    "collapsed": false,
    "pycharm": {
     "name": "#%%\n"
    }
   }
  },
  {
   "cell_type": "markdown",
   "source": [
    "## Multi-view Data"
   ],
   "metadata": {
    "collapsed": false,
    "pycharm": {
     "name": "#%% md\n"
    }
   }
  },
  {
   "cell_type": "code",
   "execution_count": null,
   "outputs": [
    {
     "name": "stdout",
     "output_type": "stream",
     "text": [
      "[2022-05-05 18:52:40] Creating experiment, Experiment ID: h3iwks0l\n",
      "[2022-05-05 18:52:40] Starting web server...\n",
      "[2022-05-05 18:52:41] Setting up...\n",
      "[2022-05-05 18:52:41] Web portal URLs: http://169.254.197.142:6006 http://169.254.114.95:6006 http://169.254.201.156:6006 http://169.254.214.235:6006 http://169.254.176.173:6006 http://10.47.1.39:6006 http://169.254.87.172:6006 http://127.0.0.1:6006\n"
     ]
    }
   ],
   "source": [
    "experiment = Experiment('local')\n",
    "experiment.config.experiment_name = \"UKB_Balanced\"  # gpez09yt\n",
    "experiment.config.trial_command = 'python main.py --model CPM_GAN --name mymodel --seed 123 --batch_size 800 --dataset UKB_Balanced --num_worker 0 --missing_rate 0.3 --max_epoch 400 --sp 1'\n",
    "experiment.config.trial_code_directory = './src'\n",
    "experiment.config.experiment_working_directory = './log'\n",
    "experiment.config.search_space = search_space\n",
    "\n",
    "experiment.config.tuner.name = 'TPE'\n",
    "experiment.config.tuner.class_args['optimize_mode'] = 'maximize'\n",
    "\n",
    "experiment.config.max_trial_number = 600\n",
    "experiment.config.trial_concurrency = 4\n",
    "\n",
    "experiment.run(6006)"
   ],
   "metadata": {
    "collapsed": false,
    "pycharm": {
     "name": "#%%\n",
     "is_executing": true
    }
   }
  },
  {
   "cell_type": "code",
   "execution_count": 7,
   "outputs": [
    {
     "ename": "NameError",
     "evalue": "name 'experiment' is not defined",
     "output_type": "error",
     "traceback": [
      "\u001B[1;31m---------------------------------------------------------------------------\u001B[0m",
      "\u001B[1;31mNameError\u001B[0m                                 Traceback (most recent call last)",
      "Input \u001B[1;32mIn [7]\u001B[0m, in \u001B[0;36m<cell line: 1>\u001B[1;34m()\u001B[0m\n\u001B[1;32m----> 1\u001B[0m \u001B[43mexperiment\u001B[49m\u001B[38;5;241m.\u001B[39mstop()\n",
      "\u001B[1;31mNameError\u001B[0m: name 'experiment' is not defined"
     ]
    }
   ],
   "source": [
    "experiment.stop()"
   ],
   "metadata": {
    "collapsed": false,
    "pycharm": {
     "name": "#%%\n"
    }
   }
  },
  {
   "cell_type": "code",
   "execution_count": 1,
   "outputs": [
    {
     "name": "stdout",
     "output_type": "stream",
     "text": [
      "[2022-05-05 16:00:38] Creating experiment, Experiment ID: 3qb2cxk9\n",
      "[2022-05-05 16:00:38] Starting web server...\n",
      "[2022-05-05 16:00:39] Setting up...\n",
      "[2022-05-05 16:00:39] Web portal URLs: http://169.254.114.95:6006 http://169.254.201.156:6006 http://169.254.214.235:6006 http://169.254.197.142:6006 http://169.254.176.173:6006 http://10.47.1.39:6006 http://169.254.87.172:6006 http://127.0.0.1:6006\n"
     ]
    }
   ],
   "source": [
    "# 查看已有的\n",
    "!nnictl view gpez09yt --port 6006"
   ],
   "metadata": {
    "collapsed": false,
    "pycharm": {
     "name": "#%%\n"
    }
   }
  },
  {
   "cell_type": "code",
   "execution_count": 8,
   "outputs": [
    {
     "name": "stdout",
     "output_type": "stream",
     "text": [
      "[2022-04-26 00:41:45] Creating experiment, Experiment ID: 3qb2cxk9\n",
      "[2022-04-26 00:41:45] Starting web server...\n",
      "[2022-04-26 00:41:46] Setting up...\n",
      "[2022-04-26 00:41:46] Web portal URLs: http://169.254.114.95:8088 http://169.254.201.156:8088 http://169.254.214.235:8088 http://10.43.117.241:8088 http://169.254.176.173:8088 http://169.254.120.105:8088 http://169.254.87.172:8088 http://127.0.0.1:8088\n"
     ]
    }
   ],
   "source": [
    "# 恢复训练\n",
    "!nnictl resume gpez09yt --port 6006"
   ],
   "metadata": {
    "collapsed": false,
    "pycharm": {
     "name": "#%%\n"
    }
   }
  },
  {
   "cell_type": "code",
   "execution_count": 6,
   "outputs": [],
   "source": [
    "# 停止全部\n",
    "!nnictl stop --all"
   ],
   "metadata": {
    "collapsed": false,
    "pycharm": {
     "name": "#%%\n"
    }
   }
  },
  {
   "cell_type": "markdown",
   "source": [
    "## Breakfast"
   ],
   "metadata": {
    "collapsed": false,
    "pycharm": {
     "name": "#%% md\n"
    }
   }
  },
  {
   "cell_type": "code",
   "execution_count": null,
   "outputs": [],
   "source": [
    "experiment = Experiment('local')\n",
    "experiment.config.trial_command = 'python breakfast.py'\n",
    "experiment.config.trial_code_directory = '.'\n",
    "experiment.config.experiment_working_directory = './log'\n",
    "experiment.config.search_space = search_space\n",
    "\n",
    "experiment.config.tuner.name = 'TPE'\n",
    "experiment.config.tuner.class_args['optimize_mode'] = 'maximize'\n",
    "\n",
    "experiment.config.max_trial_number = 100\n",
    "experiment.config.trial_concurrency = 2\n",
    "\n",
    "experiment.run(6006)"
   ],
   "metadata": {
    "collapsed": false,
    "pycharm": {
     "name": "#%%\n"
    }
   }
  }
 ],
 "metadata": {
  "kernelspec": {
   "display_name": "Python 3",
   "language": "python",
   "name": "python3"
  },
  "language_info": {
   "codemirror_mode": {
    "name": "ipython",
    "version": 2
   },
   "file_extension": ".py",
   "mimetype": "text/x-python",
   "name": "python",
   "nbconvert_exporter": "python",
   "pygments_lexer": "ipython2",
   "version": "2.7.6"
  }
 },
 "nbformat": 4,
 "nbformat_minor": 0
}